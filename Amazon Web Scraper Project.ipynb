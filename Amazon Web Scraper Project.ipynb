{
 "cells": [
  {
   "cell_type": "code",
   "execution_count": 1,
   "id": "3f0cf718",
   "metadata": {},
   "outputs": [],
   "source": [
    "#import libraries\n",
    "\n",
    "from bs4 import BeautifulSoup\n",
    "import requests\n",
    "import datetime\n",
    "import time\n",
    "import smtplib\n"
   ]
  },
  {
   "cell_type": "code",
   "execution_count": 2,
   "id": "274a56ea",
   "metadata": {},
   "outputs": [
    {
     "name": "stdout",
     "output_type": "stream",
     "text": [
      "Google Pixel 6 - Android 5G Smartphone without SIM Lock with 50 Megapixel Camera and Wide Angle Lens - [128GB] - Sorta Seafoam\n",
      "€524.11\n"
     ]
    }
   ],
   "source": [
    "#connect to website\n",
    "\n",
    "url='https://www.amazon.de/-/en/Google-Pixel-Android-Smartphone-Megapixel/dp/B09G73ZF2B/ref=sr_1_5?crid=2RSE286JQC4L7&keywords=google+pixel+6a&qid=1664704203&qu=eyJxc2MiOiIyLjg3IiwicXNhIjoiMy4yMyIsInFzcCI6IjMuMDkifQ%3D%3D&s=amazon-devices&sprefix=pixel+6%2Camazon-devices%2C118&sr=1-5'\n",
    "headers = {\"User-Agent\": \"Mozilla/5.0 (Windows NT 10.0; Win64; x64) AppleWebKit/537.36 (KHTML, like Gecko) Chrome/106.0.0.0 Safari/537.36\", \"Accept-Encoding\":\"gzip, deflate\", \"Accept\":\"text/html,application/xhtml+xml,application/xml;q=0.9,*/*;q=0.8\", \"DNT\":\"1\",\"Connection\":\"close\", \"Upgrade-Insecure-Requests\":\"1\"}\n",
    "page=requests.get(url,headers=headers)\n",
    "\n",
    "Soup1=BeautifulSoup(page.content,\"html.parser\")\n",
    "\n",
    "Soup2=BeautifulSoup(Soup1.prettify(),\"html.parser\")\n",
    "\n",
    "title=Soup2.find(id='productTitle').get_text().strip()\n",
    "price=Soup2.find('span',{'class':'a-offscreen'}).get_text().strip()\n",
    "print(title)\n",
    "print(price)"
   ]
  },
  {
   "cell_type": "code",
   "execution_count": 3,
   "id": "f932584e",
   "metadata": {},
   "outputs": [
    {
     "name": "stdout",
     "output_type": "stream",
     "text": [
      "2022-10-02\n"
     ]
    }
   ],
   "source": [
    "import datetime\n",
    "today=datetime.date.today()\n",
    "print(today)"
   ]
  },
  {
   "cell_type": "code",
   "execution_count": 4,
   "id": "e9f82f16",
   "metadata": {},
   "outputs": [],
   "source": [
    "import csv\n",
    "\n",
    "header=['Title','Price','Date']\n",
    "data=[title,price,today]\n",
    "\n",
    "with open('AmazonWebScraper_dataset.csv','w',newline='',encoding='UTF8') as f:\n",
    "    writer=csv.writer(f)\n",
    "    writer.writerow(header)\n",
    "    writer.writerow(data)"
   ]
  },
  {
   "cell_type": "code",
   "execution_count": 5,
   "id": "f58cecff",
   "metadata": {},
   "outputs": [],
   "source": [
    "#appending data to csv\n",
    "\n",
    "with open('AmazonWebScraper_dataset.csv','a+',newline='',encoding='UTF8') as f:\n",
    "    writer=csv.writer(f)\n",
    "    writer.writerow(data)"
   ]
  },
  {
   "cell_type": "code",
   "execution_count": 6,
   "id": "40866314",
   "metadata": {},
   "outputs": [],
   "source": [
    "#Combine all of the above code into one function\n",
    "\n",
    "def check_price():\n",
    "    url='https://www.amazon.de/-/en/Google-Pixel-Android-Smartphone-Megapixel/dp/B09G73ZF2B/ref=sr_1_5?crid=2RSE286JQC4L7&keywords=google+pixel+6a&qid=1664704203&qu=eyJxc2MiOiIyLjg3IiwicXNhIjoiMy4yMyIsInFzcCI6IjMuMDkifQ%3D%3D&s=amazon-devices&sprefix=pixel+6%2Camazon-devices%2C118&sr=1-5'\n",
    "    headers = {\"User-Agent\": \"Mozilla/5.0 (Windows NT 10.0; Win64; x64) AppleWebKit/537.36 (KHTML, like Gecko) Chrome/106.0.0.0 Safari/537.36\", \"Accept-Encoding\":\"gzip, deflate\", \"Accept\":\"text/html,application/xhtml+xml,application/xml;q=0.9,*/*;q=0.8\", \"DNT\":\"1\",\"Connection\":\"close\", \"Upgrade-Insecure-Requests\":\"1\"}\n",
    "    page=requests.get(url,headers=headers)\n",
    "\n",
    "    Soup1=BeautifulSoup(page.content,\"html.parser\")\n",
    "\n",
    "    Soup2=BeautifulSoup(Soup1.prettify(),\"html.parser\")\n",
    "\n",
    "    title=Soup2.find(id='productTitle').get_text().strip()\n",
    "    price=Soup2.find('span',{'class':'a-offscreen'}).get_text().strip()\n",
    "    print(title)\n",
    "    print(price)\n",
    "\n",
    "    import datetime\n",
    "    today=datetime.date.today()\n",
    "    import csv\n",
    "    header=['Title','Price','Date']\n",
    "    data=[title,price,today]\n",
    "    \n",
    "    with open('AmazonWebScraper_dataset.csv','a+',newline='',encoding='UTF8') as f:\n",
    "        writer=csv.writer(f)\n",
    "        writer.writerow(data)\n",
    "        \n",
    "    "
   ]
  },
  {
   "cell_type": "code",
   "execution_count": null,
   "id": "d2b32089",
   "metadata": {},
   "outputs": [
    {
     "name": "stdout",
     "output_type": "stream",
     "text": [
      "Google Pixel 6 - Android 5G Smartphone without SIM Lock with 50 Megapixel Camera and Wide Angle Lens - [128GB] - Sorta Seafoam\n",
      "€524.11\n"
     ]
    }
   ],
   "source": [
    "while(True):\n",
    "    check_price()\n",
    "    time.sleep(20)"
   ]
  },
  {
   "cell_type": "code",
   "execution_count": null,
   "id": "ebc0f8d6",
   "metadata": {},
   "outputs": [],
   "source": [
    "import pandas as pd\n",
    "\n",
    "df=pd.read_csv(r'C:\\\\Users\\\\sejal\\\\AmazonWebScraper_dataset.csv')\n",
    "print(df)"
   ]
  },
  {
   "cell_type": "code",
   "execution_count": null,
   "id": "e6da7a4e",
   "metadata": {},
   "outputs": [],
   "source": [
    "def send_mail():\n",
    "    server = smtplib.SMTP_SSL('smtp.gmail.com',465)\n",
    "    server.ehlo()\n",
    "    #server.starttls()\n",
    "    server.ehlo()\n",
    "    server.login('sejal1011maniyar@gmail.com','xxxxxxxxxxxxxx')\n",
    "    \n",
    "    subject = \"Buy your Pixel NOW\"\n",
    "    body = \"Sejal, This is the moment we have been waiting for. Now is your chance to pick up the Pixel 6. Don't mess it up! Link here:https://www.amazon.de/-/en/Google-Pixel-Android-Smartphone-Megapixel/dp/B09G73ZF2B/ref=sr_1_5?crid=2RSE286JQC4L7&keywords=google+pixel+6a&qid=1664704203&qu=eyJxc2MiOiIyLjg3IiwicXNhIjoiMy4yMyIsInFzcCI6IjMuMDkifQ%3D%3D&s=amazon-devices&sprefix=pixel+6%2Camazon-devices%2C118&sr=1-5\"\n",
    "   \n",
    "    msg = f\"Subject: {subject}\\n\\n{body}\"\n",
    "    \n",
    "    server.sendmail(\n",
    "        'sejal1011maniyar@gmail.com',\n",
    "        msg\n",
    "     \n",
    "    )"
   ]
  },
  {
   "cell_type": "code",
   "execution_count": null,
   "id": "86351517",
   "metadata": {},
   "outputs": [],
   "source": []
  },
  {
   "cell_type": "code",
   "execution_count": null,
   "id": "6ab4d2eb",
   "metadata": {},
   "outputs": [],
   "source": []
  }
 ],
 "metadata": {
  "kernelspec": {
   "display_name": "Python 3 (ipykernel)",
   "language": "python",
   "name": "python3"
  },
  "language_info": {
   "codemirror_mode": {
    "name": "ipython",
    "version": 3
   },
   "file_extension": ".py",
   "mimetype": "text/x-python",
   "name": "python",
   "nbconvert_exporter": "python",
   "pygments_lexer": "ipython3",
   "version": "3.10.6"
  }
 },
 "nbformat": 4,
 "nbformat_minor": 5
}
